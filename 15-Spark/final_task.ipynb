{
 "cells": [
  {
   "metadata": {},
   "cell_type": "markdown",
   "source": [
    "### Введение\n",
    "#### Цели проекта\n",
    "Провести анализ логов веб-сервера для выявления:\n",
    "   1. 10 самых активных IP-адресов. \n",
    "   2. Количества запросов по HTTP-методам.\n",
    "   3. Количества запросов с кодом ответа 404.\n",
    "   4. Общего объема данных ответов по дням.\n",
    "#### Описание данных\n",
    "Логи веб-сервера включают следующие столбцы:\n",
    "- **ip**: IP-адрес клиента.\n",
    "- **timestamp**: Временная метка запроса.\n",
    "- **method**: HTTP-метод (GET, POST, PUT, DELETE).\n",
    "- **url**: URL запроса.\n",
    "- **response_code**: Код ответа сервера (например, 200, 404).\n",
    "- **response_size**: Размер ответа в байтах.\n",
    "#### Инструменты\n",
    "PySpark, Jupyter Notebook, PyCharm"
   ],
   "id": "948e662d44cff134"
  },
  {
   "metadata": {
    "ExecuteTime": {
     "end_time": "2024-11-26T13:25:04.781568Z",
     "start_time": "2024-11-26T13:25:04.763494Z"
    }
   },
   "cell_type": "code",
   "source": [
    "# Импорт библиотек\n",
    "from pyspark.sql import SparkSession\n",
    "from pyspark.sql.functions import col, count, sum as _sum, date_format\n",
    "from pyspark.sql.functions import min as _min, max as _max, avg, stddev, round, col"
   ],
   "id": "95ff65515f72732d",
   "outputs": [],
   "execution_count": 21
  },
  {
   "metadata": {
    "ExecuteTime": {
     "end_time": "2024-11-26T13:20:53.339621Z",
     "start_time": "2024-11-26T13:20:39.850535Z"
    }
   },
   "cell_type": "code",
   "source": [
    "# Инициализация SparkSession\n",
    "spark = SparkSession.builder \\\n",
    "    .appName(\"WebServerLogsAnalysis\") \\\n",
    "    .getOrCreate()"
   ],
   "id": "7f728398e02fb16e",
   "outputs": [],
   "execution_count": 3
  },
  {
   "metadata": {
    "ExecuteTime": {
     "end_time": "2024-11-26T13:20:58.238242Z",
     "start_time": "2024-11-26T13:20:53.356311Z"
    }
   },
   "cell_type": "code",
   "source": [
    "# Загрузка данных из CSV-файла, который был предварительно сгенерирован.\n",
    "file_path = \"web_server_logs.csv\"\n",
    "logs_df = spark.read.csv(file_path, header=True, inferSchema=True)"
   ],
   "id": "2c67829c71566df9",
   "outputs": [],
   "execution_count": 4
  },
  {
   "metadata": {
    "ExecuteTime": {
     "end_time": "2024-11-26T13:20:58.285395Z",
     "start_time": "2024-11-26T13:20:58.271919Z"
    }
   },
   "cell_type": "code",
   "source": [
    "# Проверка структуры данных\n",
    "logs_df.printSchema()"
   ],
   "id": "88726322d43557af",
   "outputs": [
    {
     "name": "stdout",
     "output_type": "stream",
     "text": [
      "root\n",
      " |-- ip: string (nullable = true)\n",
      " |-- timestamp: timestamp (nullable = true)\n",
      " |-- method: string (nullable = true)\n",
      " |-- url: string (nullable = true)\n",
      " |-- response_code: integer (nullable = true)\n",
      " |-- response_size: integer (nullable = true)\n",
      "\n"
     ]
    }
   ],
   "execution_count": 5
  },
  {
   "metadata": {
    "ExecuteTime": {
     "end_time": "2024-11-26T13:20:58.550699Z",
     "start_time": "2024-11-26T13:20:58.320984Z"
    }
   },
   "cell_type": "code",
   "source": [
    "# Пример первых записей\n",
    "logs_df.show(5, truncate=False)"
   ],
   "id": "aa0c90530302131f",
   "outputs": [
    {
     "name": "stdout",
     "output_type": "stream",
     "text": [
      "+---------------+-------------------+------+--------------------------+-------------+-------------+\n",
      "|ip             |timestamp          |method|url                       |response_code|response_size|\n",
      "+---------------+-------------------+------+--------------------------+-------------+-------------+\n",
      "|223.116.182.173|2024-07-17 09:44:50|PUT   |posts                     |404          |8788         |\n",
      "|147.79.235.189 |2024-06-16 06:38:22|PUT   |posts                     |404          |3169         |\n",
      "|74.93.217.180  |2024-04-01 07:04:17|DELETE|wp-content/wp-content/list|404          |1107         |\n",
      "|120.221.45.62  |2024-06-25 20:17:16|POST  |explore                   |404          |1315         |\n",
      "|95.100.217.26  |2024-08-01 15:09:02|PUT   |list/blog                 |301          |1198         |\n",
      "+---------------+-------------------+------+--------------------------+-------------+-------------+\n",
      "only showing top 5 rows\n",
      "\n"
     ]
    }
   ],
   "execution_count": 6
  },
  {
   "metadata": {},
   "cell_type": "markdown",
   "source": "#### Задача 1: Топ-10 самых активных IP-адресов",
   "id": "935dfc476f0dcd69"
  },
  {
   "metadata": {
    "ExecuteTime": {
     "end_time": "2024-11-26T13:20:58.690492Z",
     "start_time": "2024-11-26T13:20:58.611380Z"
    }
   },
   "cell_type": "code",
   "source": [
    "# Группируем данные по IP-адресам, подсчитываем количество запросов и выводим 10 самых активных адресов.\n",
    "top_ips = logs_df.groupBy(\"ip\") \\\n",
    "    .agg(count(\"*\").alias(\"request_count\")) \\\n",
    "    .orderBy(col(\"request_count\").desc()) \\\n",
    "    .limit(10)"
   ],
   "id": "40c8df218afeacf9",
   "outputs": [],
   "execution_count": 7
  },
  {
   "metadata": {
    "ExecuteTime": {
     "end_time": "2024-11-26T13:21:00.746598Z",
     "start_time": "2024-11-26T13:20:58.718780Z"
    }
   },
   "cell_type": "code",
   "source": [
    "print(\"Топ-10 активных IP-адресов:\")\n",
    "top_ips.show()"
   ],
   "id": "2faa466ea843ed7e",
   "outputs": [
    {
     "name": "stdout",
     "output_type": "stream",
     "text": [
      "Топ-10 активных IP-адресов:\n",
      "+---------------+-------------+\n",
      "|             ip|request_count|\n",
      "+---------------+-------------+\n",
      "|   74.22.21.145|            2|\n",
      "|  121.33.155.20|            2|\n",
      "|  71.129.102.44|            1|\n",
      "| 193.227.246.65|            1|\n",
      "| 116.91.101.251|            1|\n",
      "|217.143.101.201|            1|\n",
      "|  6.188.213.236|            1|\n",
      "|   165.8.68.160|            1|\n",
      "| 117.78.123.112|            1|\n",
      "|   2.46.232.233|            1|\n",
      "+---------------+-------------+\n",
      "\n"
     ]
    }
   ],
   "execution_count": 8
  },
  {
   "metadata": {},
   "cell_type": "markdown",
   "source": "Среди 10 самых активных IP-адресов ярко выраженного лидера нет, потому что практически все адреса отправили не больше 1-го запроса и только пара адресов (74.22.21.145 и 121.33.155.20) отправили хотя бы 2 запроса.",
   "id": "d4ad7b19f7c9e633"
  },
  {
   "metadata": {},
   "cell_type": "markdown",
   "source": "#### Задача 2: Количество запросов по HTTP-методам",
   "id": "9d8a295fc6a78139"
  },
  {
   "metadata": {
    "ExecuteTime": {
     "end_time": "2024-11-26T13:21:00.808187Z",
     "start_time": "2024-11-26T13:21:00.764217Z"
    }
   },
   "cell_type": "code",
   "source": [
    "#Группируем данные по столбцу \"method\" и подсчитываем количество запросов для каждого метода.\n",
    "method_counts = logs_df.groupBy(\"method\") \\\n",
    "    .agg(count(\"*\").alias(\"method_count\")) \\\n",
    "    .orderBy(col(\"method_count\").desc())"
   ],
   "id": "2a9e408f217af60a",
   "outputs": [],
   "execution_count": 9
  },
  {
   "metadata": {
    "ExecuteTime": {
     "end_time": "2024-11-26T13:21:01.088751Z",
     "start_time": "2024-11-26T13:21:00.827194Z"
    }
   },
   "cell_type": "code",
   "source": [
    "print(\"Количество запросов по HTTP-методам:\")\n",
    "method_counts.show()"
   ],
   "id": "8e16773465562612",
   "outputs": [
    {
     "name": "stdout",
     "output_type": "stream",
     "text": [
      "Количество запросов по HTTP-методам:\n",
      "+------+------------+\n",
      "|method|method_count|\n",
      "+------+------------+\n",
      "|   PUT|       25182|\n",
      "|  POST|       25123|\n",
      "|   GET|       24854|\n",
      "|DELETE|       24841|\n",
      "+------+------------+\n",
      "\n"
     ]
    }
   ],
   "execution_count": 10
  },
  {
   "metadata": {},
   "cell_type": "markdown",
   "source": "Наиболее часто используются методы PUT и POST, количество их запросов примерно одинаковое: 25182 и 25123 соответственно.",
   "id": "678642ae73d8a403"
  },
  {
   "metadata": {},
   "cell_type": "markdown",
   "source": "#### Задача 3: Количество запросов с кодом ответа 404",
   "id": "70455eab16b3cff5"
  },
  {
   "metadata": {
    "ExecuteTime": {
     "end_time": "2024-11-26T13:21:01.135195Z",
     "start_time": "2024-11-26T13:21:01.106535Z"
    }
   },
   "cell_type": "code",
   "source": [
    "# Фильтруем строки, где response_code равен 404, и подсчитываем количество таких строк.\n",
    "error_404_count = logs_df.filter(col(\"response_code\") == 404) \\\n",
    "    .agg(count(\"*\").alias(\"404_count\"))"
   ],
   "id": "fd57a86e6a52d820",
   "outputs": [],
   "execution_count": 11
  },
  {
   "metadata": {
    "ExecuteTime": {
     "end_time": "2024-11-26T13:21:01.505654Z",
     "start_time": "2024-11-26T13:21:01.153139Z"
    }
   },
   "cell_type": "code",
   "source": [
    "print(\"Количество запросов с кодом 404:\")\n",
    "error_404_count.show()"
   ],
   "id": "207172d15aaddbad",
   "outputs": [
    {
     "name": "stdout",
     "output_type": "stream",
     "text": [
      "Количество запросов с кодом 404:\n",
      "+---------+\n",
      "|404_count|\n",
      "+---------+\n",
      "|    24778|\n",
      "+---------+\n",
      "\n"
     ]
    }
   ],
   "execution_count": 12
  },
  {
   "metadata": {},
   "cell_type": "markdown",
   "source": "Обнаружено 24778 запросов с кодом ответа 404.",
   "id": "3db82e5bf8dba540"
  },
  {
   "metadata": {},
   "cell_type": "markdown",
   "source": "#### Задача 4: Сумма размеров ответов по дням",
   "id": "7c0abfd09ff60ba"
  },
  {
   "metadata": {
    "ExecuteTime": {
     "end_time": "2024-11-26T13:22:00.828319Z",
     "start_time": "2024-11-26T13:22:00.782237Z"
    }
   },
   "cell_type": "code",
   "source": [
    "# Извлекаем дату из временной метки и группируем данные по дате, подсчитывая общий объем ответов.\n",
    "logs_df_with_date = logs_df.withColumn(\"date\", date_format(col(\"timestamp\"), \"yyyy-MM-dd\"))\n",
    "\n",
    "response_size_by_date = logs_df_with_date.groupBy(\"date\") \\\n",
    "    .agg(_sum(\"response_size\").alias(\"total_response_size\")) \\\n",
    "    .orderBy(col(\"date\").asc())"
   ],
   "id": "fcc40690c78b1370",
   "outputs": [],
   "execution_count": 15
  },
  {
   "metadata": {
    "ExecuteTime": {
     "end_time": "2024-11-26T13:22:02.836965Z",
     "start_time": "2024-11-26T13:22:02.089063Z"
    }
   },
   "cell_type": "code",
   "source": [
    "print(\"Общий объем данных ответов по дням:\")\n",
    "response_size_by_date.show()"
   ],
   "id": "687ce1e1032a6153",
   "outputs": [
    {
     "name": "stdout",
     "output_type": "stream",
     "text": [
      "Общий объем данных ответов по дням:\n",
      "+----------+-------------------+\n",
      "|      date|total_response_size|\n",
      "+----------+-------------------+\n",
      "|2024-01-01|            1586209|\n",
      "|2024-01-02|            1522854|\n",
      "|2024-01-03|            1457914|\n",
      "|2024-01-04|            1498359|\n",
      "|2024-01-05|            1544727|\n",
      "|2024-01-06|            1651367|\n",
      "|2024-01-07|            1407101|\n",
      "|2024-01-08|            1568120|\n",
      "|2024-01-09|            1624450|\n",
      "|2024-01-10|            1608041|\n",
      "|2024-01-11|            1577735|\n",
      "|2024-01-12|            1518721|\n",
      "|2024-01-13|            1649294|\n",
      "|2024-01-14|            1396481|\n",
      "|2024-01-15|            1618075|\n",
      "|2024-01-16|            1560489|\n",
      "|2024-01-17|            1658609|\n",
      "|2024-01-18|            1644657|\n",
      "|2024-01-19|            1623925|\n",
      "|2024-01-20|            1439035|\n",
      "+----------+-------------------+\n",
      "only showing top 20 rows\n",
      "\n"
     ]
    }
   ],
   "execution_count": 16
  },
  {
   "metadata": {
    "ExecuteTime": {
     "end_time": "2024-11-26T13:25:32.647638Z",
     "start_time": "2024-11-26T13:25:30.815593Z"
    }
   },
   "cell_type": "code",
   "source": [
    "# Описательная статистика для объема данных по дням\n",
    "response_stats = response_size_by_date.agg(\n",
    "    _min(col(\"total_response_size\")).alias(\"min_response_size\"),\n",
    "    _max(col(\"total_response_size\")).alias(\"max_response_size\"),\n",
    "    round(avg(col(\"total_response_size\")), 2).alias(\"mean_response_size\"),\n",
    "    round(stddev(col(\"total_response_size\")), 2).alias(\"stddev_response_size\")\n",
    ")\n",
    "\n",
    "print(\"Описательная статистика для общего объема данных (с округлением):\")\n",
    "response_stats.show()"
   ],
   "id": "624b9ff61922f0b5",
   "outputs": [
    {
     "name": "stdout",
     "output_type": "stream",
     "text": [
      "Описательная статистика для общего объема данных (с округлением):\n",
      "+-----------------+-----------------+------------------+--------------------+\n",
      "|min_response_size|max_response_size|mean_response_size|stddev_response_size|\n",
      "+-----------------+-----------------+------------------+--------------------+\n",
      "|           952258|          1780659|        1527125.26|           100661.01|\n",
      "+-----------------+-----------------+------------------+--------------------+\n",
      "\n"
     ]
    }
   ],
   "execution_count": 22
  },
  {
   "metadata": {
    "ExecuteTime": {
     "end_time": "2024-11-26T13:25:53.617028Z",
     "start_time": "2024-11-26T13:25:52.158294Z"
    }
   },
   "cell_type": "code",
   "source": [
    "# Вывод наиболее и наименее активных дней\n",
    "most_active_day = response_size_by_date.orderBy(col(\"total_response_size\").desc()).limit(1)\n",
    "least_active_day = response_size_by_date.orderBy(col(\"total_response_size\").asc()).limit(1)\n",
    "\n",
    "print(\"Наиболее активный день по объему данных:\")\n",
    "most_active_day.show()\n",
    "\n",
    "print(\"Наименее активный день по объему данных:\")\n",
    "least_active_day.show()"
   ],
   "id": "78456afb4f433a86",
   "outputs": [
    {
     "name": "stdout",
     "output_type": "stream",
     "text": [
      "Наиболее активный день по объему данных:\n",
      "+----------+-------------------+\n",
      "|      date|total_response_size|\n",
      "+----------+-------------------+\n",
      "|2024-10-09|            1780659|\n",
      "+----------+-------------------+\n",
      "\n",
      "Наименее активный день по объему данных:\n",
      "+----------+-------------------+\n",
      "|      date|total_response_size|\n",
      "+----------+-------------------+\n",
      "|2024-11-26|             952258|\n",
      "+----------+-------------------+\n",
      "\n"
     ]
    }
   ],
   "execution_count": 23
  },
  {
   "metadata": {},
   "cell_type": "markdown",
   "source": "Наибольший объем данных был передан 9 Октября 2024, общий объем: 1780659 байт (~1,78 МБ). В среднем передается около 1,5 МБ данных каждый день.",
   "id": "2e7f421714448bd9"
  },
  {
   "metadata": {},
   "cell_type": "markdown",
   "source": [
    "#### Итоговые выводы\n",
    "1. **Топ-10 активных IP-адресов**:\n",
    "    - Наиболее активные IP: 74.22.21.145 и 121.33.155.20, количество запросов: 1.\n",
    "    - Остальные IP-адреса отправили по 1 запросу.\n",
    "\n",
    " 2. **Количество запросов по HTTP-методам**:\n",
    "    - Наиболее популярный метод: PUT, количество запросов: 25182.\n",
    "    - Наименее популярный метод: DELETE, количество запросов: 24841.\n",
    "\n",
    " 3. **Запросы с кодом ответа 404**:\n",
    "    - Всего обнаружено 24778 запросов с кодом 404.\n",
    "\n",
    " 4. **Объем данных по дням**:\n",
    "    - В среднем передается около 1,5 МБ данных каждый день.\n",
    "    - Наибольший объем данных был передан 09/10/2024, общий объем: 1780659 байт (~1,78 МБ).\n",
    "    - Минимальный объем данных был передан 26/11/2024, общий объем: 952258 байт (~0,95 МБ).\n",
    "\n",
    "Таким образом, проведенный анализ позволяет выявить основные характеристики активности пользователей на сервере."
   ],
   "id": "2a2b222596e4bdb7"
  }
 ],
 "metadata": {
  "kernelspec": {
   "display_name": "Python 3",
   "language": "python",
   "name": "python3"
  },
  "language_info": {
   "codemirror_mode": {
    "name": "ipython",
    "version": 2
   },
   "file_extension": ".py",
   "mimetype": "text/x-python",
   "name": "python",
   "nbconvert_exporter": "python",
   "pygments_lexer": "ipython2",
   "version": "2.7.6"
  }
 },
 "nbformat": 4,
 "nbformat_minor": 5
}
